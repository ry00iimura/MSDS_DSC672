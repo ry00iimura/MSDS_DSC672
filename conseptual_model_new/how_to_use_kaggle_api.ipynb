{
 "cells": [
  {
   "cell_type": "markdown",
   "metadata": {},
   "source": [
    "# Group 4\n",
    "\n",
    "•\tRyosuke Iimura, DePaul University, School of Computing, RIIMURA@depaul.edu "
   ]
  },
  {
   "cell_type": "markdown",
   "metadata": {},
   "source": [
    "# How to set up for Kaggle API\n",
    "\n",
    "This page shows the way to start Kaggle API. <a href = \"https://github.com/Kaggle/kaggle-api#datasets\">The official docs</a> is available on Github."
   ]
  },
  {
   "cell_type": "markdown",
   "metadata": {},
   "source": [
    "1. Go to <a href = \"https://www.kaggle.com/settings\">Kaggle settings</a>"
   ]
  },
  {
   "cell_type": "markdown",
   "metadata": {},
   "source": [
    "2. Click \"Create New Token\" in Account tab. Then, a json file is automatiically downloaed."
   ]
  },
  {
   "cell_type": "markdown",
   "metadata": {},
   "source": [
    "3. install kaggle packages"
   ]
  },
  {
   "cell_type": "code",
   "execution_count": null,
   "metadata": {},
   "outputs": [],
   "source": [
    "!pip install kaggle"
   ]
  },
  {
   "cell_type": "markdown",
   "metadata": {},
   "source": [
    "4. create .kaggle directory \"C:\\Users\\<Windows-username>\\.kaggle\"  in the local machine and move kaggle.json there"
   ]
  },
  {
   "cell_type": "code",
   "execution_count": null,
   "metadata": {},
   "outputs": [],
   "source": [
    "!mkdir ~/.kaggle  # this command is CMD in windows to create a .kaggle folder\n",
    "!copy kaggle.json ~/.kaggle/  # this command is CMD in windows to move the kaggle.josn to a .kaggle folder."
   ]
  },
  {
   "cell_type": "markdown",
   "metadata": {},
   "source": [
    "5. Now you can access datasets in Kaggle through the API. The command below shows the datasets in Kaggle"
   ]
  },
  {
   "cell_type": "code",
   "execution_count": 12,
   "metadata": {},
   "outputs": [
    {
     "name": "stdout",
     "output_type": "stream",
     "text": [
      "ref                                                       title                                        size  lastUpdated          downloadCount  voteCount  usabilityRating  \n",
      "--------------------------------------------------------  ------------------------------------------  -----  -------------------  -------------  ---------  ---------------  \n",
      "sazidthe1/data-science-salaries                           Data Science Salaries 2024                   57KB  2024-01-20 16:45:27            823         26  1.0              \n",
      "michau96/social-media-popularity-2009-2023                Social media popularity (2009 - 2023)         5KB  2024-01-16 16:45:09            693         21  0.9411765        \n",
      "hummaamqaasim/jobs-in-data                                Jobs and Salaries in Data Science            76KB  2023-12-25 20:03:32           8065        162  1.0              \n",
      "mrsimple07/restaurants-revenue-prediction                 Restaurants Revenue Prediction               42KB  2024-01-17 13:43:00            927         26  1.0              \n",
      "nelgiriyewithana/apple-quality                            Apple Quality                               170KB  2024-01-11 14:31:07           2066         54  1.0              \n",
      "nelgiriyewithana/new-york-housing-market                  New York Housing Market                     271KB  2024-01-06 16:41:00           2763         79  1.0              \n",
      "tanishqdublish/world-data-population                      World data population                        14KB  2024-01-12 18:22:20            628         21  1.0              \n",
      "thedrcat/daigt-v4-train-dataset                           DAIGT-V4-TRAIN-DATASET                       49MB  2024-01-15 23:22:03            271         64  1.0              \n",
      "maso0dahmed/global-temperature-records-1850-2022          Global Temperature Records (1850-2022)        2MB  2024-01-03 10:19:57           1164         22  1.0              \n",
      "joebeachcapital/differentiated-thyroid-cancer-recurrence  Differentiated Thyroid Cancer Recurrence      3KB  2024-01-19 03:10:29            315         27  1.0              \n",
      "vishakhdapat/customer-segmentation-clustering             Customer Segmentation : Clustering           62KB  2024-01-13 16:31:02            905         23  0.9411765        \n",
      "mrsimple07/student-exam-performance-prediction            Student Exam Performance Prediction          10KB  2024-01-14 12:02:45           1212         32  1.0              \n",
      "willianoliveiragibin/countries-poluation                  countries_poluation                          98KB  2024-01-01 20:13:16           1314         36  1.0              \n",
      "thedrcat/daigt-v2-train-dataset                           DAIGT V2 Train Dataset                       29MB  2023-11-16 01:38:36           4618        340  1.0              \n",
      "rafsunahmad/best-country-to-live-in-2024                  Best Country to Live In 2024                  7KB  2024-01-04 12:59:51           1147         34  1.0              \n",
      "thegoanpanda/fastag-fraud-detection-datesets-fictitious   Fastag Fraud Detection Datasets             106KB  2024-01-16 18:56:31            475         26  1.0              \n",
      "bhavikjikadara/grocery-store-dataset                      Grocery Store Dataset                       391KB  2024-01-06 04:35:55           1614         33  1.0              \n",
      "jacksondivakarr/car-crash-dataset                         Car Crash Dataset                             4MB  2024-01-08 13:44:08           2208         45  1.0              \n",
      "thedrcat/daigt-v3-train-dataset                           daigt-v3-train-dataset                       83MB  2023-12-28 04:36:42            533         87  1.0              \n",
      "kashishparmar02/social-media-sentiments-analysis-dataset  Social Media Sentiments Analysis Dataset 📊   51KB  2024-01-01 08:14:49           1944         42  1.0              \n"
     ]
    }
   ],
   "source": [
    "!kaggle datasets list"
   ]
  },
  {
   "cell_type": "markdown",
   "metadata": {},
   "source": [
    "6. You can search a dataset with -s [keywords] argument. [keywords] can be anything but, it is easy to put a path from URL."
   ]
  },
  {
   "cell_type": "code",
   "execution_count": 15,
   "metadata": {},
   "outputs": [
    {
     "name": "stdout",
     "output_type": "stream",
     "text": [
      "ref                                                              title                                               size  lastUpdated          downloadCount  voteCount  usabilityRating  \n",
      "---------------------------------------------------------------  -------------------------------------------------  -----  -------------------  -------------  ---------  ---------------  \n",
      "melodyyiphoiching/remote-working-survey                          Remote Working Survey                              373KB  2022-03-02 03:17:52           1037         19  0.5294118        \n",
      "anninasimon/predict-if-people-prefer-wfh-verses-wfo-data         Predict if people prefer WFH vs WFO post Covid-19    3KB  2021-06-28 17:32:35           1041         25  0.5882353        \n",
      "whenamancodes/data-science-fields-salary-categorization          Data Science Fields Salary Categorization            7KB  2022-09-10 07:53:45           6089         88  1.0              \n",
      "mohamedelzeini/the-impacts-of-working-remotely-and-in-an-office  The Impacts of Working Remotely and in an Office   887KB  2023-06-20 10:02:07            713         14  0.7058824        \n",
      "paragzode/nsw-remote-working-survey                              NSW Remote Working Survey                          533KB  2022-09-04 10:12:46             23          0  0.11764706       \n",
      "fatimariaz01/remote-work-survey-nsw                              Remote Work Survey - NSW                           373KB  2022-12-26 07:39:57             97          1  0.64705884       \n",
      "thedevastator/mental-health-in-tech-survey                       Mental Health in Tech Survey                        49KB  2023-01-20 22:47:59            403          4  0.9411765        \n",
      "jasonporzelius/google-certificate-bellabeats-capstone-project    Google Certificate BellaBeats Capstone Project     165KB  2023-01-05 17:20:30             66          0  0.47058824       \n",
      "jasonporzelius/google-capstone-project-bellabeats                Google Capstone Project - BellaBeats                70KB  2023-01-05 18:27:43            104          0  0.4117647        \n"
     ]
    }
   ],
   "source": [
    "!kaggle datasets list -s remote-working-survey"
   ]
  },
  {
   "cell_type": "markdown",
   "metadata": {},
   "source": [
    "7. Download the dataset. The dataset can be specified with ref text above."
   ]
  },
  {
   "cell_type": "code",
   "execution_count": null,
   "metadata": {},
   "outputs": [],
   "source": [
    "!kaggle datasets download --unzip  melodyyiphoiching/remote-working-survey"
   ]
  },
  {
   "cell_type": "markdown",
   "metadata": {},
   "source": [
    "# Another way of authenticate your Kaggle API using dotenv package\n",
    "\n",
    "This is another way to authenticate your API token. You can use environment variables to register the token and use it to access Kaggle."
   ]
  },
  {
   "cell_type": "markdown",
   "metadata": {},
   "source": [
    "1. install the dotenv package"
   ]
  },
  {
   "cell_type": "code",
   "execution_count": null,
   "metadata": {},
   "outputs": [],
   "source": [
    "!pip install python-dotenv"
   ]
  },
  {
   "cell_type": "markdown",
   "metadata": {},
   "source": [
    "2. import it"
   ]
  },
  {
   "cell_type": "code",
   "execution_count": 34,
   "metadata": {},
   "outputs": [],
   "source": [
    "import dotenv"
   ]
  },
  {
   "cell_type": "markdown",
   "metadata": {},
   "source": [
    "3. create a .env file"
   ]
  },
  {
   "cell_type": "code",
   "execution_count": null,
   "metadata": {},
   "outputs": [],
   "source": [
    "!mkdir ~/.env"
   ]
  },
  {
   "cell_type": "markdown",
   "metadata": {},
   "source": [
    "4. write the username and api key in the .evn file"
   ]
  },
  {
   "cell_type": "code",
   "execution_count": null,
   "metadata": {
    "vscode": {
     "languageId": "powershell"
    }
   },
   "outputs": [],
   "source": [
    "KAGGLE_USERNAME=your_username\n",
    "KAGGLE_KEY=your_api_key"
   ]
  },
  {
   "cell_type": "markdown",
   "metadata": {},
   "source": [
    "5. load and set the information in the environment variable"
   ]
  },
  {
   "cell_type": "code",
   "execution_count": null,
   "metadata": {},
   "outputs": [],
   "source": [
    "from dotenv import load_dotenv\n",
    "load_dotenv()"
   ]
  }
 ],
 "metadata": {
  "kernelspec": {
   "display_name": "base",
   "language": "python",
   "name": "python3"
  },
  "language_info": {
   "codemirror_mode": {
    "name": "ipython",
    "version": 3
   },
   "file_extension": ".py",
   "mimetype": "text/x-python",
   "name": "python",
   "nbconvert_exporter": "python",
   "pygments_lexer": "ipython3",
   "version": "3.11.5"
  }
 },
 "nbformat": 4,
 "nbformat_minor": 2
}
