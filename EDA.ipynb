{
 "cells": [
  {
   "cell_type": "markdown",
   "metadata": {},
   "source": [
    "# EDA\n",
    "\n",
    "This file is used for exploratory data analysis with some datasets. When you use datasets from Kaggle, it is better to use kaggle API to download them on CLI. If you are unfamiliar with Kaggle API, please read \"how_to_use_kaggle_api.ipynb\" beforehand.\n",
    "\n",
    "There were two waves for this survey. The first wave had been conducted in August-September 2020, whereas the second wave was March-April 2021."
   ]
  },
  {
   "cell_type": "code",
   "execution_count": 10,
   "metadata": {},
   "outputs": [],
   "source": [
    "# load libraries\n",
    "import pandas as pd\n",
    "import numpy as np\n",
    "import matplotlib.pyplot as plt\n",
    "import seaborn as sns"
   ]
  },
  {
   "cell_type": "markdown",
   "metadata": {},
   "source": [
    "1. <a href = \"https://www.kaggle.com/datasets/melodyyiphoiching/remote-working-survey?select=2020_rws.csv\">Remote Working Survey </a>"
   ]
  },
  {
   "cell_type": "code",
   "execution_count": 1,
   "metadata": {},
   "outputs": [
    {
     "name": "stdout",
     "output_type": "stream",
     "text": [
      "Downloading remote-working-survey.zip to dataset\n",
      "\n"
     ]
    },
    {
     "name": "stderr",
     "output_type": "stream",
     "text": [
      "\n",
      "  0%|          | 0.00/373k [00:00<?, ?B/s]\n",
      "100%|██████████| 373k/373k [00:00<00:00, 771kB/s]\n",
      "100%|██████████| 373k/373k [00:00<00:00, 766kB/s]\n"
     ]
    }
   ],
   "source": [
    "!kaggle datasets download --unzip -p dataset/ melodyyiphoiching/remote-working-survey"
   ]
  },
  {
   "cell_type": "code",
   "execution_count": 11,
   "metadata": {},
   "outputs": [],
   "source": [
    "# read the dataset\n",
    "rws_2020 = pd.read_csv('dataset\\\\2020_rws.csv',encoding = 'cp1252')\n",
    "rws_2021 = pd.read_csv('dataset\\\\2021_rws.csv',encoding = 'cp1252')"
   ]
  },
  {
   "cell_type": "markdown",
   "metadata": {},
   "source": [
    "There are about 1,500 records in each, but the number of columns are not same. The survey in 2020 had 73 questions whereas, the one in 2021 had 109 questions. Did they include different questionnaires?"
   ]
  },
  {
   "cell_type": "code",
   "execution_count": 12,
   "metadata": {},
   "outputs": [
    {
     "name": "stdout",
     "output_type": "stream",
     "text": [
      "rws_2020:(1507, 73) , rws_2021:(1512, 109)\n"
     ]
    }
   ],
   "source": [
    "print('rws_2020:{} , rws_2021:{}'.format(rws_2020.shape,rws_2021.shape))"
   ]
  },
  {
   "cell_type": "markdown",
   "metadata": {},
   "source": [
    "Yes they did. The common columns are few, and most of them are different. Some of columns are written in different words but may be same meaning such as 'Metro / Regional' and 'Metro or Regional'"
   ]
  },
  {
   "cell_type": "code",
   "execution_count": 70,
   "metadata": {},
   "outputs": [
    {
     "name": "stdout",
     "output_type": "stream",
     "text": [
      "symmetric difference 168 , interaction 7\n"
     ]
    }
   ],
   "source": [
    "rws_2020_cols = [c.strip() for c in rws_2020.columns]\n",
    "rws_2021_cols = [c.strip() for c in rws_2021.columns]\n",
    "\n",
    "rws_2020 = rws_2020.rename(columns = dict(zip(rws_2020.columns,rws_2020_cols)))\n",
    "rws_2021 = rws_2021.rename(columns = dict(zip(rws_2021.columns,rws_2021_cols)))\n",
    "symmetric_diff = len(list(set(rws_2020_cols) ^ set(rws_2021_cols))) # symmetric difference\n",
    "interaction = len(list(set(rws_2020_cols) & set(rws_2021_cols))) # interaction\n",
    "print('symmetric difference {} , interaction {}'.format(symmetric_diff,interaction))"
   ]
  },
  {
   "cell_type": "code",
   "execution_count": 43,
   "metadata": {},
   "outputs": [],
   "source": [
    "questions_2020 = pd.DataFrame(rws_2020_cols[1:], index = [i for i in range(len(rws_2020_cols[1:]))],columns = ['question'])\n",
    "questions_2021 = pd.DataFrame(rws_2021_cols[1:], index = [i for i in range(len(rws_2021_cols[1:]))],columns = ['question'])"
   ]
  },
  {
   "cell_type": "markdown",
   "metadata": {},
   "source": [
    "As there are tons of questions, I tried to classify them into some categories. "
   ]
  },
  {
   "cell_type": "code",
   "execution_count": 8,
   "metadata": {},
   "outputs": [],
   "source": [
    "questions = {\n",
    "    0: {\n",
    "        'original IDs': ([0], [0]),\n",
    "        'question': 'What year were you born?',\n",
    "        'type':'biology'\n",
    "        },\n",
    "    1: {\n",
    "        'original IDs': ([1], [1]),\n",
    "        'question': 'What is your gender?',\n",
    "        'type':'biology'\n",
    "        },\n",
    "    2: {\n",
    "        'original IDs': ([2], [3]),\n",
    "        'question': 'industry',\n",
    "        'type':'biology'\n",
    "        },\n",
    "    3: {\n",
    "        'original IDs': ([3],[]),\n",
    "        'question': 'industry (Detailed)',\n",
    "        'type':'biology'\n",
    "        },\n",
    "    4: {\n",
    "        'original IDs': ([4], [4]),\n",
    "        'question': 'current occupation?',\n",
    "        'type':'biology'\n",
    "        },\n",
    "    5: {\n",
    "        'original IDs': ([5],[]),\n",
    "        'question': 'current occupation? (Detailed)',\n",
    "        'type':'biology'\n",
    "        },\n",
    "    6: {\n",
    "        'original IDs': ([6], [5]),\n",
    "        'question': 'number of employees',\n",
    "        'type':'biology'\n",
    "        },\n",
    "    7: {\n",
    "        'original IDs': ([7], [95]),\n",
    "        'question': 'Do you manage people?',\n",
    "        'type':'biology'\n",
    "        },\n",
    "    8: {\n",
    "        'original IDs': ([8], [6]),\n",
    "        'question': 'household',\n",
    "        'type':'biology'\n",
    "        },\n",
    "    9: {\n",
    "        'original IDs': ([9], [2]),\n",
    "        'question': 'length of current job',\n",
    "        'type':'biology'\n",
    "        },\n",
    "    10: {\n",
    "        'original IDs': ([10],[7]),\n",
    "        'question': 'Metro or Regional',\n",
    "        'type':'biology'\n",
    "        },\n",
    "    11: {\n",
    "        'original IDs': ([11],[10]),\n",
    "        'question': 'how much of your time did you spend remote working in a year?',\n",
    "        'type':'experience'\n",
    "        },\n",
    "    12: {\n",
    "        'original IDs': ([12,20], [24]),\n",
    "        'question': 'My organisation encouraged people to work remotely',\n",
    "        'type':'top management support/organization policy'\n",
    "        },\n",
    "    13: {\n",
    "         'original IDs': ([13,21], [25]),\n",
    "         'question': 'My organisation was well prepared for me to work remotely',\n",
    "         'type':'top management support/organization policy'\n",
    "         },\n",
    "    14: {\n",
    "        'original IDs': ([14,22], [26]),\n",
    "        'question': 'It was common for people in my organisation to work remotely',\n",
    "        'type':'acceptance'\n",
    "        },\n",
    "    15: {\n",
    "        'original IDs': ([15,23], [27]),\n",
    "        'question': 'It was easy to get permission to work remotely',\n",
    "        'type':'acceptance'\n",
    "        },\n",
    "    16: {\n",
    "        'original IDs': ([16,24], [28]),\n",
    "        'question': 'I could easily collaborate with colleagues when working remotely',\n",
    "        'type':'team'\n",
    "        },\n",
    "    17: {\n",
    "        'original IDs': ([17,25],[]),\n",
    "        'question': 'I would recommend remote working to others',\n",
    "        'type':'preference'\n",
    "        },\n",
    "    18: {\n",
    "        'original IDs': ([18,26,27], [9,11,12]),\n",
    "        'question': 'How much of your time would you have preferred to work remotely?',\n",
    "        'type':'preference'\n",
    "        },\n",
    "    19: {\n",
    "        'original IDs': ([19], [8]),\n",
    "        'question': 'how much of your time did you spend remote working?',\n",
    "        'type':'experience'\n",
    "        },\n",
    "    20: {\n",
    "        'original IDs': ([28], [33]),\n",
    "        'question': 'My employer would encourage more remote working',\n",
    "        'type':'top management support/organization policy'\n",
    "        },\n",
    "    21: {\n",
    "        'original IDs': ([29], [34]),\n",
    "        'question': 'My employer would make changes to support remote working',\n",
    "        'type':'top management support/organization policy'\n",
    "        },\n",
    "    22: {\n",
    "        'original IDs': ([30], [35]),\n",
    "        'question': 'I would have more choice about whether I work remotely',\n",
    "        'type':'acceptance'\n",
    "        },\n",
    "    23: {\n",
    "        'original IDs': ([31], [106]),\n",
    "        'question': 'compare your productivity when you work remotely to when you work at your employer’s workplace',\n",
    "        'type':'productivity'\n",
    "        },\n",
    "    24: {\n",
    "        'original IDs': ([32,36], [36,41]),\n",
    "        'question': \"how many hours would you spend preparing for work and commuting?\",\n",
    "        'type':'experience'\n",
    "        },\n",
    "    25: {\n",
    "        'original IDs': ([33,37], [37,42]),\n",
    "        'question': \"how many hours would you spend working?\",\n",
    "        'type':'experience'\n",
    "        },\n",
    "    26: {\n",
    "        'original IDs': ([34,38], [39,44]),\n",
    "        'question': \"how many hours would you spend doing personal and family time?\",\n",
    "        'type':'experience'\n",
    "        },\n",
    "    27: {\n",
    "        'original IDs': ([35,39], [38,43]),\n",
    "        'question': \"how many hours would you spend caring and domestic responsibilities?\",\n",
    "        'type':'experience'\n",
    "        },\n",
    "    28: {\n",
    "        'original IDs': ([], [40]),\n",
    "        'question': \"how many hours would you spend sleeping?\",\n",
    "        'type':'experience'\n",
    "        },\n",
    "    29: {\n",
    "        'original IDs': ([40,41], [49,54,52,53,51,48]),\n",
    "        'question': 'the most/least significant barrier of WFH - Connectivity (internet connection) ; Feeling left out and/or isolated ; Poor management ; IT equipment (computer, printer, etc.) ; Difficulty collaborating remotely ; Caring responsibilities',\n",
    "        'type': 'flexibility'\n",
    "        },\n",
    "    30: {\n",
    "        'original IDs': ([42,43], [49,54,52,56,59]),\n",
    "        'question': 'the most/least significant barrier of WFH - Connectivity (internet connection) ; Feeling left out and/or isolated ; Poor management ; Cyber security ; Lack of motivation ; Lack of motivation',\n",
    "        'type': 'flexibility'\n",
    "        },\n",
    "    31: {\n",
    "        'original IDs': ([44,45], [49,50,54,58]),\n",
    "        'question': \"the most/least significant barrier of WFH - Connectivity (internet connection) ; Feeling left out and/or isolated ; Poor management ; My organisation's software and systems ; My workspace (e.g. suitable chair, lighting, noise levels, facilities) ; I have tasks that can't be done remotely\",\n",
    "        'type': 'flexibility'\n",
    "        },\n",
    "    32: {\n",
    "       'original IDs': ([46,47,48,49], [49,54,62,61,60,53,51,48,56,59]),\n",
    "       'question': 'the most/least significant barrier of WFH - Connectivity (internet connection) ; Feeling left out and/or isolated ; Poor management ; Lack of remote working skills ; My living situation (e.g. location, home size, who I live with) ; Management discourages remote working',\n",
    "       'type': 'flexibility'\n",
    "        },\n",
    "    33: {\n",
    "        'original IDs': ([50,51,52,53], [50,53,51,48,58,57,53,51,48,62,61,60]),\n",
    "        'question': 'the most/least significant barrier of WFH - IT equipment (computer, printer, etc.) ; Difficulty collaborating remotely ; Caring responsibilities ; Cyber security ; Lack of motivation ; Lack of motivation',\n",
    "        'type': 'flexibility'\n",
    "        },  \n",
    "    34: {\n",
    "        'original IDs': ([54,55,56,57], [50,56,59,58,57,56,59,62,61,60]),\n",
    "        'question': \"the most/least significant barrier of WFH - IT equipment (computer, printer, etc.) ; Difficulty collaborating remotely ; Caring responsibilities ; My organisation's software and systems ; My workspace (e.g. suitable chair, lighting, noise levels, facilities) ; I have tasks that can't be done remotely\",\n",
    "        'type': 'flexibility'\n",
    "        },  \n",
    "    35: {\n",
    "        'original IDs': ([58,59], [50,58,57,62,61,60]),\n",
    "        'question': 'the most significant barrier of WFH - IT equipment (computer, printer, etc.) ; Difficulty collaborating remotely ; Caring responsibilities ; Lack of remote working skills ; My living situation (e.g. location, home size, who I live with) ; Management discourages remote working',\n",
    "        'type': 'flexibility'\n",
    "        }, \n",
    "    36: {\n",
    "        'original IDs': ([],[55]),\n",
    "        'question': 'Have the following barriers to remote working improved or worsened for you over the past 6 months?   - Extra costs',\n",
    "        'type': 'flexibility'\n",
    "        },\n",
    "    37: {\n",
    "        'original IDs': ([],[63]),\n",
    "        'question': 'Have the following barriers to remote working improved or worsened for you over the past 6 months?   - My health and safety when working remotely',\n",
    "        'type': 'flexibility'\n",
    "        },\n",
    "    38: {\n",
    "        'original IDs': ([60,61],[]),\n",
    "        'question': 'the best aspect of remote working for you - Managing my family responsibilities ; My working relationships ; Preparing for work and commuting ; The number of hours  I work ; My work-life balance ; My on-the-job learning opportunities',\n",
    "        'type':'effect'\n",
    "        },\n",
    "    39: {\n",
    "        'original IDs': ([62,63],[]),\n",
    "        'question': 'the best aspect of remote working for you - Managing my family responsibilities ; My working relationships ; Preparing for work and commuting ; Managing my personal commitments ; My opportunities to socialise ; My mental wellbeing',\n",
    "        'type':'effect'\n",
    "        },\n",
    "    40: {\n",
    "        'original IDs': ([64,65],[]),\n",
    "        'question': 'the best aspect of remote working for you - Managing my family responsibilities ; My working relationships ; Preparing for work and commuting ; My daily expenses ; My personal relationships ; My job satisfaction',\n",
    "        'type':'effect'\n",
    "        },\n",
    "    41: {\n",
    "        'original IDs': ([66,67],[]),\n",
    "        'question': 'the best aspect of remote working for you - The number of hours  I work ; My work-life balance ; My on-the-job learning opportunities ; Managing my personal commitments ; My opportunities to socialise ; My mental wellbeing',\n",
    "        'type':'effect'\n",
    "        },\n",
    "    42: {\n",
    "        'original IDs': ([68,69],[]),\n",
    "        'question': 'the best aspect of remote working for you - The number of hours  I work ; My work-life balance ; My on-the-job learning opportunities ; My daily expenses ; My personal relationships ; My job satisfaction',\n",
    "        'type':'effect'\n",
    "        },\n",
    "    43: {\n",
    "        'original IDs': ([70,71],[]),\n",
    "        'question': 'the best aspect of remote working for you - Managing my personal commitments ; My opportunities to socialise ; My mental wellbeing ; My daily expenses ; My personal relationships ; My job satisfaction',\n",
    "        'type':'effect'\n",
    "        },\n",
    "    44: {\n",
    "        'original IDs': ([],[13]),\n",
    "        'question': 'Has your employer changed or updated their policy on remote work since COVID-19?',\n",
    "        'type':'top management support/organization policy'\n",
    "        },\n",
    "    45: {\n",
    "        'original IDs': ([],[14]),\n",
    "        'question': 'have you ever worked part of your day remotely, and part of it at your employer’s workplace?',\n",
    "        'type':'experience'\n",
    "        },\n",
    "    46: {\n",
    "        'original IDs': ([],[15]),\n",
    "        'question': 'How often do you work this way(worked part of your day remotely, and part of it at your employer’s workplace)?',\n",
    "        'type':'experience'\n",
    "        },\n",
    "    47: {\n",
    "        'original IDs': ([],[16]),\n",
    "        'question': 'How often would you like to work this way?',\n",
    "        'type':'preference'\n",
    "        },\n",
    "    48: {\n",
    "        'original IDs': ([],[17]),\n",
    "        'question': 'Does your employer have a policy that workers must be at the employer’s workplace some of the time?',\n",
    "        'type':'top management support/organization policy'\n",
    "        },\n",
    "    49: {\n",
    "        'original IDs': ([],[18]),\n",
    "        'question': 'How much of your work time does your employer’s policy require you to be at their workplace?',\n",
    "        'type':'top management support/organization policy'\n",
    "        },\n",
    "    50: {\n",
    "        'original IDs': ([],[19,20,21,22]),\n",
    "        'question': 'your employer’s policy on remote working',\n",
    "        'type':'top management support/organization policy'\n",
    "        },\n",
    "    51: {\n",
    "        'original IDs': ([],[29,30]),\n",
    "        'question': 'remote working in the last 6 months',\n",
    "        'type':'experience'\n",
    "        },\n",
    "    52: {\n",
    "        'original IDs': ([],[31]),\n",
    "        'question': 'Do you think remote working is a positive or a negative for your employer?',\n",
    "        'type':'acceptance'\n",
    "        },\n",
    "    53: {\n",
    "        'original IDs': ([],[32]),\n",
    "        'question': 'Who is most supportive of remote working in your organisation?',\n",
    "        'type':'top management support/organization policy'\n",
    "        }, \n",
    "    54: {\n",
    "        'original IDs': ([],[46]),\n",
    "        'question': 'Imagine your employer offered you the option to work remotely whenever you chose, in return for negotiating a pay cut that you both agree on.  Would you be interested in negotiating?',\n",
    "        'type':'preference'\n",
    "        },\n",
    "    55: {\n",
    "        'original IDs': ([],[47]),\n",
    "        'question': 'What is the biggest pay cut you would accept?   Please give your answer as a percentage.',\n",
    "        'type':'preference'\n",
    "        },\n",
    "    56: {\n",
    "        'original IDs': ([],[64,65,66,67,68,69,70,71,72,73,74,75,76,77,78,79,80,81,82,83,84,85,86,87,88,89,90,91]),\n",
    "        'question': 'Think about when you worked at your employer’s workplace and some of your colleagues were working remotely. What were the biggest/smallest barriers of working this way?',\n",
    "        'type':'flexibility'\n",
    "        },\n",
    "    57: {\n",
    "        'original IDs': ([],[92]),\n",
    "        'question':'On days when I work remotely I feel better',\n",
    "        'type':'effect'\n",
    "        },\n",
    "    58: {\n",
    "        'original IDs': ([],[93]),\n",
    "        'question': 'On days when I work remotely I am more active',\n",
    "        'type':'effect'\n",
    "        },\n",
    "    59: {\n",
    "        'original IDs': ([],[94]),\n",
    "        'question': 'I feel better on days when I see my colleagues in person',\n",
    "        'type':'effect'\n",
    "        },\n",
    "    60: {\n",
    "        'original IDs': ([],[96]),\n",
    "        'question': 'Do employees you manage ever work remotely?',\n",
    "        'type':'acceptance'\n",
    "        },\n",
    "    61: {\n",
    "        'original IDs': ([],[97]),\n",
    "        'question': 'I have discretion to offer or deny remote work to employees I manage',\n",
    "        'type':'top management support/organization policy'\n",
    "        },\n",
    "    62: {\n",
    "        'original IDs': ([],[98]),\n",
    "        'question': 'Offering remote work helps me retain employees',\n",
    "        'type':'effect'\n",
    "        },\n",
    "    63: {\n",
    "        'original IDs': ([],[99]),\n",
    "        'question': 'Offering remote work helps me to recruit employees',\n",
    "        'type':'effect'\n",
    "        },\n",
    "    64: {\n",
    "        'original IDs': ([],[100]),\n",
    "        'question': 'My team works well together when they work remotely',\n",
    "        'type':'effect'\n",
    "        },\n",
    "    65: {\n",
    "        'original IDs': ([],[101]),\n",
    "        'question': 'I find it easy to manage employees remotely (e.g. tasking and monitoring progress)',\n",
    "        'type':'effect'\n",
    "        },\n",
    "    66: {\n",
    "        'original IDs': ([],[102]),\n",
    "        'question': 'I find it easy to manage poor performers remotely',\n",
    "        'type':'effect'\n",
    "        },\n",
    "    67: {\n",
    "        'original IDs': ([],[103]),\n",
    "        'question': 'I feel well-prepared to manage employees remotely',\n",
    "        'type':'effect'\n",
    "        },\n",
    "    68: {\n",
    "        'original IDs': ([],[104]),\n",
    "        'question': 'Managing people remotely makes me more focused on results',\n",
    "        'type':'effect'\n",
    "        },\n",
    "    69: {\n",
    "        'original IDs': ([],[105]),\n",
    "        'question': 'I find it easy to contact my employees when they work remotely',\n",
    "        'type':'effect'\n",
    "        },\n",
    "    70: {\n",
    "        'original IDs': ([],[107]),\n",
    "        'question': 'Roughly how productive are the employees you manage, each hour, when they work remotely?',\n",
    "        'type':'productivity'\n",
    "        }\n",
    "        }"
   ]
  },
  {
   "cell_type": "code",
   "execution_count": 214,
   "metadata": {},
   "outputs": [],
   "source": [
    "# rws_2020\n",
    "\n",
    "class Q:\n",
    "\n",
    "    def __init__(self,questions,questions_2020,questions_2021,df_2020,df_2021):\n",
    "\n",
    "        self.id = ['Response ID']\n",
    "\n",
    "        self.questions = questions\n",
    "        \n",
    "        self.questions_2020 = questions_2020\n",
    "        self.questions_2021 = questions_2021\n",
    "\n",
    "        self.df_2020 = df_2020\n",
    "        self.df_2021 = df_2021\n",
    "\n",
    "    def get_q_info(self,search_qid):\n",
    "        self.q_info = self.questions[search_qid]\n",
    "        self.qid_2020 = self.q_info['original IDs'][0] # list\n",
    "        self.qid_2021 = self.q_info['original IDs'][1] # list\n",
    "        self.q_text = self.q_info['question']\n",
    "        self.q_type = self.q_info['type']\n",
    "        print(self.q_info)\n",
    "\n",
    "    def get_questions(self):\n",
    "\n",
    "        target_questions_2020 = self.questions_2020[self.questions_2020.index.isin(self.qid_2020)]['question'].values.tolist()\n",
    "        target_questions_2021 = self.questions_2021[self.questions_2021.index.isin(self.qid_2021)]['question'].values.tolist()\n",
    "\n",
    "        return [target_questions_2020, target_questions_2021]\n",
    "    \n",
    "    def get_result(self,target_questions):\n",
    "\n",
    "        self.result_2020 = self.df_2020.loc[:,self.id + target_questions[0]]\n",
    "        self.result_2021 = self.df_2021.loc[:,self.id + target_questions[1]]\n",
    "\n",
    "        return [self.result_2020,self.result_2021]\n",
    "    \n",
    "    def get_qid_type(self,q_type):\n",
    "\n",
    "        qid_list = []\n",
    "\n",
    "        for qid, q_info in questions.items():\n",
    "            if q_info['type'] == q_type:\n",
    "                qid_list.append(qid)\n",
    "\n",
    "        return qid_list\n",
    "    \n",
    "    def unstack_df(self,target_df,new_colnames):\n",
    "        target_df = target_df.set_index(self.id)\n",
    "        renamed_df = target_df.rename(columns = dict(zip( target_df.columns, new_colnames)))\n",
    "        unstacked = renamed_df.unstack()\n",
    "        new_df = unstacked.reset_index()\n",
    "        renamed_new_df = new_df.rename(columns = {'level_0':'as_of',0:'original'})\n",
    "        return renamed_new_df.set_index(self.id)\n",
    "    \n"
   ]
  },
  {
   "cell_type": "markdown",
   "metadata": {},
   "source": [
    "# Experiences"
   ]
  },
  {
   "cell_type": "code",
   "execution_count": 215,
   "metadata": {},
   "outputs": [
    {
     "name": "stdout",
     "output_type": "stream",
     "text": [
      "The question numbers: [11, 19, 24, 25, 26, 27, 28, 45, 46, 51]\n"
     ]
    }
   ],
   "source": [
    "q = Q(questions,questions_2020,questions_2021,rws_2020,rws_2021)\n",
    "print('The question numbers: {}'.format(q.get_qid_type('experience')))"
   ]
  },
  {
   "cell_type": "markdown",
   "metadata": {},
   "source": [
    "# how much of your time did you spend remote working in a year"
   ]
  },
  {
   "cell_type": "code",
   "execution_count": 216,
   "metadata": {},
   "outputs": [
    {
     "name": "stdout",
     "output_type": "stream",
     "text": [
      "{'original IDs': ([11], [10]), 'question': 'how much of your time did you spend remote working in a year?', 'type': 'experience'}\n"
     ]
    }
   ],
   "source": [
    "q.get_q_info(11)\n",
    "question_list = q.get_questions()\n",
    "result_list = q.get_result(question_list)"
   ]
  },
  {
   "cell_type": "code",
   "execution_count": 220,
   "metadata": {},
   "outputs": [
    {
     "data": {
      "text/html": [
       "<div>\n",
       "<style scoped>\n",
       "    .dataframe tbody tr th:only-of-type {\n",
       "        vertical-align: middle;\n",
       "    }\n",
       "\n",
       "    .dataframe tbody tr th {\n",
       "        vertical-align: top;\n",
       "    }\n",
       "\n",
       "    .dataframe thead th {\n",
       "        text-align: right;\n",
       "    }\n",
       "</style>\n",
       "<table border=\"1\" class=\"dataframe\">\n",
       "  <thead>\n",
       "    <tr style=\"text-align: right;\">\n",
       "      <th></th>\n",
       "      <th>as_of</th>\n",
       "      <th>original</th>\n",
       "    </tr>\n",
       "    <tr>\n",
       "      <th>Response ID</th>\n",
       "      <th></th>\n",
       "      <th></th>\n",
       "    </tr>\n",
       "  </thead>\n",
       "  <tbody>\n",
       "    <tr>\n",
       "      <th>1</th>\n",
       "      <td>2019</td>\n",
       "      <td>Rarely or never</td>\n",
       "    </tr>\n",
       "    <tr>\n",
       "      <th>2</th>\n",
       "      <td>2019</td>\n",
       "      <td>20%</td>\n",
       "    </tr>\n",
       "    <tr>\n",
       "      <th>3</th>\n",
       "      <td>2019</td>\n",
       "      <td>60%</td>\n",
       "    </tr>\n",
       "    <tr>\n",
       "      <th>4</th>\n",
       "      <td>2019</td>\n",
       "      <td>20%</td>\n",
       "    </tr>\n",
       "    <tr>\n",
       "      <th>5</th>\n",
       "      <td>2019</td>\n",
       "      <td>Less than 10% of my time</td>\n",
       "    </tr>\n",
       "    <tr>\n",
       "      <th>...</th>\n",
       "      <td>...</td>\n",
       "      <td>...</td>\n",
       "    </tr>\n",
       "    <tr>\n",
       "      <th>1508</th>\n",
       "      <td>2021</td>\n",
       "      <td>30%</td>\n",
       "    </tr>\n",
       "    <tr>\n",
       "      <th>1509</th>\n",
       "      <td>2021</td>\n",
       "      <td>Less than 10% of my time</td>\n",
       "    </tr>\n",
       "    <tr>\n",
       "      <th>1510</th>\n",
       "      <td>2021</td>\n",
       "      <td>Rarely or never</td>\n",
       "    </tr>\n",
       "    <tr>\n",
       "      <th>1511</th>\n",
       "      <td>2021</td>\n",
       "      <td>Less than 10% of my time</td>\n",
       "    </tr>\n",
       "    <tr>\n",
       "      <th>1512</th>\n",
       "      <td>2021</td>\n",
       "      <td>20%</td>\n",
       "    </tr>\n",
       "  </tbody>\n",
       "</table>\n",
       "<p>3019 rows × 2 columns</p>\n",
       "</div>"
      ],
      "text/plain": [
       "            as_of                  original\n",
       "Response ID                                \n",
       "1            2019          Rarely or never \n",
       "2            2019                       20%\n",
       "3            2019                       60%\n",
       "4            2019                       20%\n",
       "5            2019  Less than 10% of my time\n",
       "...           ...                       ...\n",
       "1508         2021                       30%\n",
       "1509         2021  Less than 10% of my time\n",
       "1510         2021           Rarely or never\n",
       "1511         2021  Less than 10% of my time\n",
       "1512         2021                       20%\n",
       "\n",
       "[3019 rows x 2 columns]"
      ]
     },
     "execution_count": 220,
     "metadata": {},
     "output_type": "execute_result"
    }
   ],
   "source": [
    "pd.concat([q.unstack_df(result_list[0],['2019']),q.unstack_df(result_list[1],['2021'])])"
   ]
  },
  {
   "cell_type": "code",
   "execution_count": 207,
   "metadata": {},
   "outputs": [],
   "source": [
    "target_arr = new_target_df['original']\n",
    "target_arr.replace({'50% - About half of my time':'50%','100% - All of my time':'100%','I would not have preferred to work remotely ':'0%','I would prefer not to work remotely ':'0%',\"Less than 10% of my time\":'1-10%'},inplace = True)\n",
    "new_target_df.insert(new_target_df.shape[1],'pct',target_arr)\n",
    "sns.countplot(new_target_df.query('as_of == \"2020\"'),x = 'pct', order = ['0%','1-10%','10%','20%', '30%', '40%', '50%', '60%', '70%', '80%', '90%' , '100%'])"
   ]
  },
  {
   "cell_type": "code",
   "execution_count": 176,
   "metadata": {},
   "outputs": [
    {
     "data": {
      "text/plain": [
       "<Axes: xlabel='pct', ylabel='count'>"
      ]
     },
     "execution_count": 176,
     "metadata": {},
     "output_type": "execute_result"
    },
    {
     "data": {
      "image/png": "[encoded data removed]",
      "text/plain": [
       "<Figure size 640x480 with 1 Axes>"
      ]
     },
     "metadata": {},
     "output_type": "display_data"
    }
   ],
   "source": [
    "sns.countplot(new_target_df.query('as_of == \"2020-Q3\"'),x = 'pct', order = ['0%','1-10%','10%','20%', '30%', '40%', '50%', '60%', '70%', '80%', '90%' , '100%'])"
   ]
  },
  {
   "cell_type": "code",
   "execution_count": 177,
   "metadata": {},
   "outputs": [
    {
     "data": {
      "text/plain": [
       "<Axes: xlabel='pct', ylabel='count'>"
      ]
     },
     "execution_count": 177,
     "metadata": {},
     "output_type": "execute_result"
    },
    {
     "data": {
      "image/png": "[encoded data removed]",
      "text/plain": [
       "<Figure size 640x480 with 1 Axes>"
      ]
     },
     "metadata": {},
     "output_type": "display_data"
    }
   ],
   "source": [
    "sns.countplot(new_target_df.query('as_of == \"post-covid-anticipation-in-2020\"'),x = 'pct', order = ['0%','1-10%','10%','20%', '30%', '40%', '50%', '60%', '70%', '80%', '90%' , '100%'])"
   ]
  },
  {
   "cell_type": "code",
   "execution_count": null,
   "metadata": {},
   "outputs": [],
   "source": []
  }
 ],
 "metadata": {
  "kernelspec": {
   "display_name": "base",
   "language": "python",
   "name": "python3"
  },
  "language_info": {
   "codemirror_mode": {
    "name": "ipython",
    "version": 3
   },
   "file_extension": ".py",
   "mimetype": "text/x-python",
   "name": "python",
   "nbconvert_exporter": "python",
   "pygments_lexer": "ipython3",
   "version": "3.11.5"
  }
 },
 "nbformat": 4,
 "nbformat_minor": 2
}
