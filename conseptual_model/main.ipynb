{
 "cells": [
  {
   "cell_type": "code",
   "execution_count": 31,
   "metadata": {},
   "outputs": [],
   "source": [
    "# load libraries\n",
    "import pandas as pd\n",
    "import numpy as np\n",
    "import df_process as dp\n",
    "import yaml_params as yp\n",
    "import rws_question as rq\n",
    "import stats_methods as sm\n",
    "import itertools"
   ]
  },
  {
   "cell_type": "markdown",
   "metadata": {},
   "source": [
    "# 1. load data"
   ]
  },
  {
   "cell_type": "code",
   "execution_count": null,
   "metadata": {},
   "outputs": [],
   "source": [
    "!kaggle datasets download --unzip -p dataset/ melodyyiphoiching/remote-working-survey"
   ]
  },
  {
   "cell_type": "code",
   "execution_count": 2,
   "metadata": {},
   "outputs": [],
   "source": [
    "# read the dataset\n",
    "d2020 = dp.D('dataset\\\\2020_rws.csv','cp1252')\n",
    "d2020.del_white_space_col(inplace = True)\n",
    "rws_2020 = d2020.df\n",
    "\n",
    "d2021 = dp.D('dataset\\\\2021_rws.csv','cp1252')\n",
    "d2021.del_white_space_col(inplace = True)\n",
    "rws_2021 = d2021.df"
   ]
  },
  {
   "cell_type": "markdown",
   "metadata": {},
   "source": [
    "# 2. questions"
   ]
  },
  {
   "cell_type": "code",
   "execution_count": 3,
   "metadata": {},
   "outputs": [],
   "source": [
    "questions_2020 = d2020.get_questions_as_df()\n",
    "questions_2021 = d2021.get_questions_as_df()"
   ]
  },
  {
   "cell_type": "code",
   "execution_count": 4,
   "metadata": {},
   "outputs": [],
   "source": [
    "ym = yp.YamlManager('parameters.yaml')\n",
    "questions = ym.read_yaml()"
   ]
  },
  {
   "cell_type": "code",
   "execution_count": 5,
   "metadata": {},
   "outputs": [],
   "source": [
    "q = rq.Q(questions,questions_2020,questions_2021,rws_2020,rws_2021)"
   ]
  },
  {
   "cell_type": "code",
   "execution_count": 21,
   "metadata": {},
   "outputs": [
    {
     "name": "stdout",
     "output_type": "stream",
     "text": [
      "The question numbers of TMS: [3, 7, 12, 13, 20, 21, 29, 30, 31, 32, 35, 48, 49, 53, 61]\n",
      "The question numbers of WPB: [31, 32, 34, 35, 56]\n"
     ]
    }
   ],
   "source": [
    "target_data_models = ['TMS','WPB']\n",
    "\n",
    "target_qid_model = {}\n",
    "\n",
    "for i in target_data_models:\n",
    "    target_qid_model[i] = q.get_qid_model(i,questions,print_ = True)"
   ]
  },
  {
   "cell_type": "code",
   "execution_count": 84,
   "metadata": {},
   "outputs": [],
   "source": [
    "ym2 = yp.YamlManager('scales.yaml')\n",
    "likert_scale = ym2.read_yaml()"
   ]
  },
  {
   "cell_type": "code",
   "execution_count": 70,
   "metadata": {},
   "outputs": [
    {
     "name": "stdout",
     "output_type": "stream",
     "text": [
      "{'data model': ['INF', 'EMS', 'TMS'], 'original IDs': [[40, 41], [49, 54, 52, 53, 51, 48]], 'question': 'the most/least significant barrier of WFH - Connectivity (internet connection) ; Feeling left out and/or isolated ; Poor management ; IT equipment (computer, printer, etc.) ; Difficulty collaborating remotely ; Caring responsibilities', 'type': 'flexibility'}\n",
      "{'data model': ['INF', 'EMS', 'TMS', 'WPB'], 'original IDs': [[44, 45], [49, 50, 54, 58]], 'question': \"the most/least significant barrier of WFH - Connectivity (internet connection) ; Feeling left out and/or isolated ; Poor management ; My organisation's software and systems ; My workspace (e.g. suitable chair, lighting, noise levels, facilities) ; I have tasks that can't be done remotely\", 'type': 'flexibility'}\n"
     ]
    }
   ],
   "source": [
    "target_qids_dfs = q.two_qids_dfs(29,31)"
   ]
  },
  {
   "cell_type": "code",
   "execution_count": 71,
   "metadata": {},
   "outputs": [],
   "source": [
    "q_comb = q.question_combination('2021',target_qids_dfs,suffix = '_duplicated')"
   ]
  },
  {
   "cell_type": "code",
   "execution_count": 72,
   "metadata": {},
   "outputs": [
    {
     "name": "stdout",
     "output_type": "stream",
     "text": [
      "It can be correlated. p-value:2.5225514627620104e-228\n",
      "It can be correlated. p-value:8.425538074719257e-172\n",
      "It can be correlated. p-value:4.4252104757004644e-151\n",
      "It can be correlated. p-value:5.00887353311734e-261\n",
      "It can be correlated. p-value:0.0\n",
      "It can be correlated. p-value:0.0\n",
      "It can be correlated. p-value:7.100811508775469e-152\n",
      "It can be correlated. p-value:5.20973058056999e-191\n",
      "It can be correlated. p-value:0.0\n",
      "It can be correlated. p-value:2.3130527136676305e-260\n",
      "It can be correlated. p-value:6.74450709422887e-205\n",
      "It can be correlated. p-value:1.2242078453809935e-221\n",
      "It can be correlated. p-value:8.918058010610872e-288\n",
      "It can be correlated. p-value:1.6057870707579443e-215\n",
      "It can be correlated. p-value:9.246361716703857e-212\n",
      "It can be correlated. p-value:7.022466375500812e-282\n",
      "It can be correlated. p-value:3.074154004752275e-181\n",
      "It can be correlated. p-value:5.209730580570287e-191\n",
      "It can be correlated. p-value:3.717609237141152e-165\n",
      "It can be correlated. p-value:0.0\n",
      "It can be correlated. p-value:9.439774685053574e-192\n",
      "It can be correlated. p-value:2.4483742879848666e-237\n",
      "It can be correlated. p-value:1.5987242575438632e-123\n",
      "It can be correlated. p-value:3.157380034917163e-156\n"
     ]
    }
   ],
   "source": [
    "result_list = sm.main(q_comb,target_qids_dfs,'2021',.05,likert_scale)"
   ]
  },
  {
   "cell_type": "code",
   "execution_count": 73,
   "metadata": {},
   "outputs": [],
   "source": [
    "test = pd.DataFrame(result_list,columns = ['question1','question2','test p-value','test result','corr','corr p-value','corr test'])"
   ]
  },
  {
   "cell_type": "markdown",
   "metadata": {},
   "source": [
    "# all"
   ]
  },
  {
   "cell_type": "code",
   "execution_count": 87,
   "metadata": {},
   "outputs": [
    {
     "name": "stdout",
     "output_type": "stream",
     "text": [
      "The question numbers of TMS: [3, 7, 12, 13, 20, 21, 29, 30, 31, 32, 35, 48, 49, 53, 61]\n",
      "The question numbers of WPB: [31, 32, 34, 35, 56]\n"
     ]
    }
   ],
   "source": [
    "target_data_models = ['TMS','WPB']\n",
    "\n",
    "target_qid_model = {}\n",
    "\n",
    "for i in target_data_models:\n",
    "    target_qid_model[i] = q.get_qid_model(i,questions,print_ = True)"
   ]
  },
  {
   "cell_type": "code",
   "execution_count": 88,
   "metadata": {},
   "outputs": [],
   "source": [
    "common_q_comb = list(itertools.product(target_qid_model[target_data_models[0]],target_qid_model[target_data_models[1]]))"
   ]
  },
  {
   "cell_type": "code",
   "execution_count": 89,
   "metadata": {},
   "outputs": [
    {
     "name": "stdout",
     "output_type": "stream",
     "text": [
      "{'data model': ['PA', 'EF', 'TMS', 'OGP'], 'original IDs': [[4, 5], [4]], 'question': 'current occupation?', 'type': 'biology'}\n",
      "{'data model': ['INF', 'EMS', 'TMS', 'WPB'], 'original IDs': [[44, 45], [49, 50, 54, 58]], 'question': \"the most/least significant barrier of WFH - Connectivity (internet connection) ; Feeling left out and/or isolated ; Poor management ; My organisation's software and systems ; My workspace (e.g. suitable chair, lighting, noise levels, facilities) ; I have tasks that can't be done remotely\", 'type': 'flexibility'}\n",
      "It can be correlated. p-value:0.0004583660584845063\n",
      "Spearman\"s correlation:-0.021 p-value:0.419\n",
      "It can be correlated. p-value:7.032627325780732e-05\n",
      "Spearman\"s correlation:-0.018 p-value:0.479\n",
      "The null hypothesis cannot be rejected.\n",
      "Spearman\"s correlation:-0.013 p-value:0.616\n",
      "It can be correlated. p-value:0.00011958676039609954\n",
      "Spearman\"s correlation:-0.017 p-value:0.521\n",
      "{'data model': ['PA', 'EF', 'TMS', 'OGP'], 'original IDs': [[4, 5], [4]], 'question': 'current occupation?', 'type': 'biology'}\n",
      "{'data model': ['INF', 'EMS', 'TMS', 'WPB'], 'original IDs': [[46, 47, 48, 49], [49, 54, 62, 61, 60, 53, 51, 48, 56, 59]], 'question': 'the most/least significant barrier of WFH - Connectivity (internet connection) ; Feeling left out and/or isolated ; Poor management ; Lack of remote working skills ; My living situation (e.g. location, home size, who I live with) ; Management discourages remote working', 'type': 'flexibility'}\n",
      "The null hypothesis cannot be rejected.\n",
      "Spearman\"s correlation:-0.048 p-value:0.06\n",
      "It can be correlated. p-value:7.032627325780732e-05\n",
      "Spearman\"s correlation:-0.018 p-value:0.479\n",
      "It can be correlated. p-value:0.0018321423873495848\n",
      "Spearman\"s correlation:-0.053 p-value:0.04\n",
      "The null hypothesis cannot be rejected.\n",
      "Spearman\"s correlation:-0.013 p-value:0.606\n",
      "It can be correlated. p-value:0.0018737680250942809\n",
      "Spearman\"s correlation:-0.026 p-value:0.319\n",
      "It can be correlated. p-value:0.0037483794385448645\n",
      "Spearman\"s correlation:-0.024 p-value:0.357\n",
      "It can be correlated. p-value:0.00011958676039609954\n",
      "Spearman\"s correlation:-0.017 p-value:0.521\n",
      "It can be correlated. p-value:6.900766183171562e-05\n",
      "Spearman\"s correlation:-0.025 p-value:0.331\n",
      "It can be correlated. p-value:0.002662115494099082\n",
      "Spearman\"s correlation:-0.029 p-value:0.253\n",
      "It can be correlated. p-value:5.540925508401875e-05\n",
      "Spearman\"s correlation:-0.016 p-value:0.53\n",
      "{'data model': ['PA', 'EF', 'TMS', 'OGP'], 'original IDs': [[4, 5], [4]], 'question': 'current occupation?', 'type': 'biology'}\n",
      "{'data model': ['INF', 'EMS', 'WPB'], 'original IDs': [[54, 55, 56, 57], [50, 56, 59, 58, 57, 56, 59, 62, 61, 60]], 'question': \"the most/least significant barrier of WFH - IT equipment (computer, printer, etc.) ; Difficulty collaborating remotely ; Caring responsibilities ; My organisation's software and systems ; My workspace (e.g. suitable chair, lighting, noise levels, facilities) ; I have tasks that can't be done remotely\", 'type': 'flexibility'}\n",
      "It can be correlated. p-value:0.0004583660584845063\n",
      "Spearman\"s correlation:-0.021 p-value:0.419\n",
      "The null hypothesis cannot be rejected.\n",
      "Spearman\"s correlation:-0.048 p-value:0.06\n",
      "It can be correlated. p-value:0.00012401502957469566\n",
      "Spearman\"s correlation:-0.009 p-value:0.719\n",
      "The null hypothesis cannot be rejected.\n",
      "Spearman\"s correlation:-0.013 p-value:0.616\n",
      "It can be correlated. p-value:0.0018737680250942809\n",
      "Spearman\"s correlation:-0.026 p-value:0.319\n",
      "It can be correlated. p-value:0.0037483794385448645\n",
      "Spearman\"s correlation:-0.024 p-value:0.357\n",
      "It can be correlated. p-value:6.900766183171562e-05\n",
      "Spearman\"s correlation:-0.025 p-value:0.331\n",
      "It can be correlated. p-value:0.002662115494099082\n",
      "Spearman\"s correlation:-0.029 p-value:0.253\n",
      "{'data model': ['PA', 'EF', 'TMS', 'OGP'], 'original IDs': [[4, 5], [4]], 'question': 'current occupation?', 'type': 'biology'}\n",
      "{'data model': ['INF', 'EMS', 'TMS', 'WPB'], 'original IDs': [[58, 59], [50, 58, 57, 62, 61, 60]], 'question': 'the most significant barrier of WFH - IT equipment (computer, printer, etc.) ; Difficulty collaborating remotely ; Caring responsibilities ; Lack of remote working skills ; My living situation (e.g. location, home size, who I live with) ; Management discourages remote working', 'type': 'flexibility'}\n",
      "It can be correlated. p-value:0.0004583660584845063\n",
      "Spearman\"s correlation:-0.021 p-value:0.419\n",
      "It can be correlated. p-value:0.00012401502957469566\n",
      "Spearman\"s correlation:-0.009 p-value:0.719\n",
      "The null hypothesis cannot be rejected.\n",
      "Spearman\"s correlation:-0.013 p-value:0.616\n",
      "It can be correlated. p-value:0.0018737680250942809\n",
      "Spearman\"s correlation:-0.026 p-value:0.319\n",
      "It can be correlated. p-value:0.0037483794385448645\n",
      "Spearman\"s correlation:-0.024 p-value:0.357\n",
      "It can be correlated. p-value:0.002662115494099082\n",
      "Spearman\"s correlation:-0.029 p-value:0.253\n",
      "{'data model': ['PA', 'EF', 'TMS', 'OGP'], 'original IDs': [[4, 5], [4]], 'question': 'current occupation?', 'type': 'biology'}\n",
      "{'data model': ['RWF', 'WPB', 'WPF', 'WTF', 'INF'], 'original IDs': [[], [64, 65, 66, 67, 68, 69, 70, 71, 72, 73, 74, 75, 76, 77, 78, 79, 80, 81, 82, 83, 84, 85, 86, 87, 88, 89, 90, 91]], 'question': 'Think about when you worked at your employer’s workplace and some of your colleagues were working remotely. What were the biggest/smallest barriers of working this way?', 'type': 'flexibility'}\n",
      "The null hypothesis cannot be rejected.\n",
      "The null hypothesis cannot be rejected.\n",
      "The null hypothesis cannot be rejected.\n",
      "The null hypothesis cannot be rejected.\n",
      "The null hypothesis cannot be rejected.\n",
      "The null hypothesis cannot be rejected.\n",
      "The null hypothesis cannot be rejected.\n",
      "It can be correlated. p-value:0.021395717742880894\n",
      "The null hypothesis cannot be rejected.\n",
      "The null hypothesis cannot be rejected.\n",
      "The null hypothesis cannot be rejected.\n",
      "The null hypothesis cannot be rejected.\n",
      "The null hypothesis cannot be rejected.\n",
      "The null hypothesis cannot be rejected.\n",
      "The null hypothesis cannot be rejected.\n",
      "The null hypothesis cannot be rejected.\n",
      "The null hypothesis cannot be rejected.\n",
      "It can be correlated. p-value:0.021752846364711198\n",
      "The null hypothesis cannot be rejected.\n",
      "It can be correlated. p-value:0.03121876870228957\n",
      "The null hypothesis cannot be rejected.\n",
      "The null hypothesis cannot be rejected.\n",
      "The null hypothesis cannot be rejected.\n",
      "The null hypothesis cannot be rejected.\n",
      "The null hypothesis cannot be rejected.\n",
      "The null hypothesis cannot be rejected.\n",
      "The null hypothesis cannot be rejected.\n",
      "It can be correlated. p-value:0.01759830292690406\n",
      "{'data model': ['TMS', 'OGP'], 'original IDs': [[7], [95]], 'question': 'Do you manage people?', 'type': 'biology'}\n",
      "{'data model': ['INF', 'EMS', 'TMS', 'WPB'], 'original IDs': [[44, 45], [49, 50, 54, 58]], 'question': \"the most/least significant barrier of WFH - Connectivity (internet connection) ; Feeling left out and/or isolated ; Poor management ; My organisation's software and systems ; My workspace (e.g. suitable chair, lighting, noise levels, facilities) ; I have tasks that can't be done remotely\", 'type': 'flexibility'}\n",
      "It can be correlated. p-value:9.385074790928304e-10\n",
      "Spearman\"s correlation:0.129 p-value:0.0\n",
      "It can be correlated. p-value:3.75742207587074e-12\n",
      "Spearman\"s correlation:0.121 p-value:0.0\n",
      "It can be correlated. p-value:1.0144086098195984e-08\n",
      "Spearman\"s correlation:0.092 p-value:0.0\n",
      "It can be correlated. p-value:3.9464784953936296e-18\n",
      "Spearman\"s correlation:0.13 p-value:0.0\n",
      "{'data model': ['TMS', 'OGP'], 'original IDs': [[7], [95]], 'question': 'Do you manage people?', 'type': 'biology'}\n",
      "{'data model': ['INF', 'EMS', 'TMS', 'WPB'], 'original IDs': [[46, 47, 48, 49], [49, 54, 62, 61, 60, 53, 51, 48, 56, 59]], 'question': 'the most/least significant barrier of WFH - Connectivity (internet connection) ; Feeling left out and/or isolated ; Poor management ; Lack of remote working skills ; My living situation (e.g. location, home size, who I live with) ; Management discourages remote working', 'type': 'flexibility'}\n",
      "It can be correlated. p-value:1.2706670561943726e-10\n",
      "Spearman\"s correlation:0.159 p-value:0.0\n",
      "It can be correlated. p-value:3.75742207587074e-12\n",
      "Spearman\"s correlation:0.121 p-value:0.0\n",
      "It can be correlated. p-value:1.5950453056150883e-13\n",
      "Spearman\"s correlation:0.144 p-value:0.0\n",
      "It can be correlated. p-value:7.497590916938539e-15\n",
      "Spearman\"s correlation:0.139 p-value:0.0\n",
      "It can be correlated. p-value:5.7685041755367165e-12\n",
      "Spearman\"s correlation:0.12 p-value:0.0\n",
      "It can be correlated. p-value:1.7856134690484062e-13\n",
      "Spearman\"s correlation:0.128 p-value:0.0\n",
      "It can be correlated. p-value:3.9464784953936296e-18\n",
      "Spearman\"s correlation:0.13 p-value:0.0\n",
      "It can be correlated. p-value:3.010227032732763e-17\n",
      "Spearman\"s correlation:0.124 p-value:0.0\n",
      "It can be correlated. p-value:9.223023491672526e-07\n",
      "Spearman\"s correlation:0.093 p-value:0.0\n",
      "It can be correlated. p-value:1.80957415857248e-13\n",
      "Spearman\"s correlation:0.126 p-value:0.0\n",
      "{'data model': ['TMS', 'OGP'], 'original IDs': [[7], [95]], 'question': 'Do you manage people?', 'type': 'biology'}\n",
      "{'data model': ['INF', 'EMS', 'WPB'], 'original IDs': [[54, 55, 56, 57], [50, 56, 59, 58, 57, 56, 59, 62, 61, 60]], 'question': \"the most/least significant barrier of WFH - IT equipment (computer, printer, etc.) ; Difficulty collaborating remotely ; Caring responsibilities ; My organisation's software and systems ; My workspace (e.g. suitable chair, lighting, noise levels, facilities) ; I have tasks that can't be done remotely\", 'type': 'flexibility'}\n",
      "It can be correlated. p-value:9.385074790928304e-10\n",
      "Spearman\"s correlation:0.129 p-value:0.0\n",
      "It can be correlated. p-value:1.2706670561943726e-10\n",
      "Spearman\"s correlation:0.159 p-value:0.0\n",
      "It can be correlated. p-value:1.8461993022042198e-19\n",
      "Spearman\"s correlation:0.128 p-value:0.0\n",
      "It can be correlated. p-value:1.0144086098195984e-08\n",
      "Spearman\"s correlation:0.092 p-value:0.0\n",
      "It can be correlated. p-value:5.7685041755367165e-12\n",
      "Spearman\"s correlation:0.12 p-value:0.0\n",
      "It can be correlated. p-value:1.7856134690484062e-13\n",
      "Spearman\"s correlation:0.128 p-value:0.0\n",
      "It can be correlated. p-value:3.010227032732763e-17\n",
      "Spearman\"s correlation:0.124 p-value:0.0\n",
      "It can be correlated. p-value:9.223023491672526e-07\n",
      "Spearman\"s correlation:0.093 p-value:0.0\n",
      "{'data model': ['TMS', 'OGP'], 'original IDs': [[7], [95]], 'question': 'Do you manage people?', 'type': 'biology'}\n",
      "{'data model': ['INF', 'EMS', 'TMS', 'WPB'], 'original IDs': [[58, 59], [50, 58, 57, 62, 61, 60]], 'question': 'the most significant barrier of WFH - IT equipment (computer, printer, etc.) ; Difficulty collaborating remotely ; Caring responsibilities ; Lack of remote working skills ; My living situation (e.g. location, home size, who I live with) ; Management discourages remote working', 'type': 'flexibility'}\n",
      "It can be correlated. p-value:9.385074790928304e-10\n",
      "Spearman\"s correlation:0.129 p-value:0.0\n",
      "It can be correlated. p-value:1.8461993022042198e-19\n",
      "Spearman\"s correlation:0.128 p-value:0.0\n",
      "It can be correlated. p-value:1.0144086098195984e-08\n",
      "Spearman\"s correlation:0.092 p-value:0.0\n",
      "It can be correlated. p-value:5.7685041755367165e-12\n",
      "Spearman\"s correlation:0.12 p-value:0.0\n",
      "It can be correlated. p-value:1.7856134690484062e-13\n",
      "Spearman\"s correlation:0.128 p-value:0.0\n",
      "It can be correlated. p-value:9.223023491672526e-07\n",
      "Spearman\"s correlation:0.093 p-value:0.0\n",
      "{'data model': ['TMS', 'OGP'], 'original IDs': [[7], [95]], 'question': 'Do you manage people?', 'type': 'biology'}\n",
      "{'data model': ['RWF', 'WPB', 'WPF', 'WTF', 'INF'], 'original IDs': [[], [64, 65, 66, 67, 68, 69, 70, 71, 72, 73, 74, 75, 76, 77, 78, 79, 80, 81, 82, 83, 84, 85, 86, 87, 88, 89, 90, 91]], 'question': 'Think about when you worked at your employer’s workplace and some of your colleagues were working remotely. What were the biggest/smallest barriers of working this way?', 'type': 'flexibility'}\n",
      "The null hypothesis cannot be rejected.\n",
      "The null hypothesis cannot be rejected.\n",
      "The null hypothesis cannot be rejected.\n",
      "The null hypothesis cannot be rejected.\n",
      "The null hypothesis cannot be rejected.\n",
      "The null hypothesis cannot be rejected.\n",
      "The null hypothesis cannot be rejected.\n",
      "The null hypothesis cannot be rejected.\n",
      "The null hypothesis cannot be rejected.\n",
      "The null hypothesis cannot be rejected.\n",
      "The null hypothesis cannot be rejected.\n",
      "The null hypothesis cannot be rejected.\n",
      "The null hypothesis cannot be rejected.\n",
      "The null hypothesis cannot be rejected.\n",
      "The null hypothesis cannot be rejected.\n",
      "It can be correlated. p-value:0.04203611603568641\n",
      "The null hypothesis cannot be rejected.\n",
      "The null hypothesis cannot be rejected.\n",
      "The null hypothesis cannot be rejected.\n",
      "The null hypothesis cannot be rejected.\n",
      "The null hypothesis cannot be rejected.\n",
      "It can be correlated. p-value:0.02289689178227649\n",
      "It can be correlated. p-value:0.039612630537559715\n",
      "The null hypothesis cannot be rejected.\n",
      "The null hypothesis cannot be rejected.\n",
      "The null hypothesis cannot be rejected.\n",
      "The null hypothesis cannot be rejected.\n",
      "The null hypothesis cannot be rejected.\n",
      "{'data model': ['TMS', 'OGP'], 'original IDs': [[12, 20], [24]], 'question': 'My organisation encouraged people to work remotely', 'type': 'top management support/organization policy'}\n",
      "{'data model': ['INF', 'EMS', 'TMS', 'WPB'], 'original IDs': [[44, 45], [49, 50, 54, 58]], 'question': \"the most/least significant barrier of WFH - Connectivity (internet connection) ; Feeling left out and/or isolated ; Poor management ; My organisation's software and systems ; My workspace (e.g. suitable chair, lighting, noise levels, facilities) ; I have tasks that can't be done remotely\", 'type': 'flexibility'}\n",
      "It can be correlated. p-value:7.643114344596911e-16\n"
     ]
    },
    {
     "ename": "AttributeError",
     "evalue": "'dict' object has no attribute 'fillna'",
     "output_type": "error",
     "traceback": [
      "\u001b[1;31m---------------------------------------------------------------------------\u001b[0m",
      "\u001b[1;31mAttributeError\u001b[0m                            Traceback (most recent call last)",
      "Cell \u001b[1;32mIn[89], line 6\u001b[0m\n\u001b[0;32m      4\u001b[0m target_qids_dfs \u001b[38;5;241m=\u001b[39m q\u001b[38;5;241m.\u001b[39mtwo_qids_dfs(cqm[\u001b[38;5;241m0\u001b[39m],cqm[\u001b[38;5;241m1\u001b[39m])\n\u001b[0;32m      5\u001b[0m q_comb \u001b[38;5;241m=\u001b[39m q\u001b[38;5;241m.\u001b[39mquestion_combination(\u001b[38;5;124m'\u001b[39m\u001b[38;5;124m2021\u001b[39m\u001b[38;5;124m'\u001b[39m,target_qids_dfs,suffix \u001b[38;5;241m=\u001b[39m \u001b[38;5;124m'\u001b[39m\u001b[38;5;124m_duplicated\u001b[39m\u001b[38;5;124m'\u001b[39m)\n\u001b[1;32m----> 6\u001b[0m result_list \u001b[38;5;241m=\u001b[39m sm\u001b[38;5;241m.\u001b[39mmain(q_comb,target_qids_dfs,\u001b[38;5;124m'\u001b[39m\u001b[38;5;124m2021\u001b[39m\u001b[38;5;124m'\u001b[39m,\u001b[38;5;241m.05\u001b[39m,likert_scale)\n\u001b[0;32m      7\u001b[0m result_df \u001b[38;5;241m=\u001b[39m pd\u001b[38;5;241m.\u001b[39mDataFrame(result_list,columns \u001b[38;5;241m=\u001b[39m [\u001b[38;5;124m'\u001b[39m\u001b[38;5;124mquestion1\u001b[39m\u001b[38;5;124m'\u001b[39m,\u001b[38;5;124m'\u001b[39m\u001b[38;5;124mquestion2\u001b[39m\u001b[38;5;124m'\u001b[39m,\u001b[38;5;124m'\u001b[39m\u001b[38;5;124mtest p-value\u001b[39m\u001b[38;5;124m'\u001b[39m,\u001b[38;5;124m'\u001b[39m\u001b[38;5;124mtest result\u001b[39m\u001b[38;5;124m'\u001b[39m,\u001b[38;5;124m'\u001b[39m\u001b[38;5;124mcorr\u001b[39m\u001b[38;5;124m'\u001b[39m,\u001b[38;5;124m'\u001b[39m\u001b[38;5;124mcorr p-value\u001b[39m\u001b[38;5;124m'\u001b[39m,\u001b[38;5;124m'\u001b[39m\u001b[38;5;124mcorr test\u001b[39m\u001b[38;5;124m'\u001b[39m])\n\u001b[0;32m      8\u001b[0m collection\u001b[38;5;241m.\u001b[39mappend(result_df)\n",
      "File \u001b[1;32mg:\\マイドライブ\\Colab Notebooks\\MSDS\\DSC 672 DATA SCIENCE CAPSTONE\\Project\\conseptual_model\\stats_methods.py:444\u001b[0m, in \u001b[0;36mmain\u001b[1;34m(q_comb, target_qids_dfs, years, threshold, likert_scale)\u001b[0m\n\u001b[0;32m    441\u001b[0m     \u001b[38;5;28;01melse\u001b[39;00m:\n\u001b[0;32m    442\u001b[0m         test_result \u001b[38;5;241m=\u001b[39m t_test(arr1,arr2,\u001b[38;5;124m'\u001b[39m\u001b[38;5;124mwelch_t\u001b[39m\u001b[38;5;124m'\u001b[39m)\n\u001b[1;32m--> 444\u001b[0m     corr_result \u001b[38;5;241m=\u001b[39m main_corr(arr1,arr2,likert_scale)\n\u001b[0;32m    446\u001b[0m     result_list\u001b[38;5;241m.\u001b[39mappend(\u001b[38;5;28mlist\u001b[39m(comb_idx) \u001b[38;5;241m+\u001b[39m test_result \u001b[38;5;241m+\u001b[39m \u001b[38;5;28mlist\u001b[39m(corr_result))\n\u001b[0;32m    448\u001b[0m \u001b[38;5;28;01mreturn\u001b[39;00m result_list\n",
      "File \u001b[1;32mg:\\マイドライブ\\Colab Notebooks\\MSDS\\DSC 672 DATA SCIENCE CAPSTONE\\Project\\conseptual_model\\stats_methods.py:347\u001b[0m, in \u001b[0;36mmain_corr\u001b[1;34m(arr1, arr2, likert_scale)\u001b[0m\n\u001b[0;32m    338\u001b[0m     \u001b[38;5;28;01mreturn\u001b[39;00m spearman(\n\u001b[0;32m    339\u001b[0m         arr1\u001b[38;5;241m.\u001b[39mfillna(arr1\u001b[38;5;241m.\u001b[39mvalue_counts()\u001b[38;5;241m.\u001b[39mindex[\u001b[38;5;241m0\u001b[39m]),\n\u001b[0;32m    340\u001b[0m         arr2\u001b[38;5;241m.\u001b[39mreplace(likert_scale)\u001b[38;5;241m.\u001b[39mfillna(\u001b[38;5;241m0\u001b[39m)\n\u001b[0;32m    341\u001b[0m         )\n\u001b[0;32m    343\u001b[0m \u001b[38;5;28;01melif\u001b[39;00m corr_type \u001b[38;5;241m==\u001b[39m \u001b[38;5;124m'\u001b[39m\u001b[38;5;124mspearman arr1,arr2\u001b[39m\u001b[38;5;124m'\u001b[39m:\n\u001b[0;32m    345\u001b[0m     \u001b[38;5;28;01mreturn\u001b[39;00m spearman(\n\u001b[0;32m    346\u001b[0m         arr1\u001b[38;5;241m.\u001b[39mreplace(likert_scale)\u001b[38;5;241m.\u001b[39mfillna(\u001b[38;5;241m0\u001b[39m),\n\u001b[1;32m--> 347\u001b[0m         arr2\u001b[38;5;241m.\u001b[39mreplace(likert_scale\u001b[38;5;241m.\u001b[39mfillna(\u001b[38;5;241m0\u001b[39m))\n\u001b[0;32m    348\u001b[0m         )\n\u001b[0;32m    350\u001b[0m \u001b[38;5;28;01melif\u001b[39;00m corr_type \u001b[38;5;241m==\u001b[39m\u001b[38;5;124m'\u001b[39m\u001b[38;5;124mpearson\u001b[39m\u001b[38;5;124m'\u001b[39m:\n\u001b[0;32m    352\u001b[0m     \u001b[38;5;28;01mreturn\u001b[39;00m pearson(\n\u001b[0;32m    353\u001b[0m         arr1\u001b[38;5;241m.\u001b[39mfillna(np\u001b[38;5;241m.\u001b[39mnanmean(arr1)),\n\u001b[0;32m    354\u001b[0m         arr2\u001b[38;5;241m.\u001b[39mfillna(np\u001b[38;5;241m.\u001b[39mnanmean(arr2))\n\u001b[0;32m    355\u001b[0m         )\n",
      "\u001b[1;31mAttributeError\u001b[0m: 'dict' object has no attribute 'fillna'"
     ]
    }
   ],
   "source": [
    "collection = []\n",
    "\n",
    "for cqm in common_q_comb:\n",
    "    target_qids_dfs = q.two_qids_dfs(cqm[0],cqm[1])\n",
    "    q_comb = q.question_combination('2021',target_qids_dfs,suffix = '_duplicated')\n",
    "    result_list = sm.main(q_comb,target_qids_dfs,'2021',.05,likert_scale)\n",
    "    result_df = pd.DataFrame(result_list,columns = ['question1','question2','test p-value','test result','corr','corr p-value','corr test'])\n",
    "    collection.append(result_df)"
   ]
  },
  {
   "cell_type": "code",
   "execution_count": 45,
   "metadata": {},
   "outputs": [],
   "source": [
    "collection_df = pd.concat(collection)"
   ]
  },
  {
   "cell_type": "code",
   "execution_count": 64,
   "metadata": {},
   "outputs": [],
   "source": [
    "check = (collection_df[collection_df[\"test result\"] == True].query('corr <0.999')).sort_values(by = 'corr', ascending=False)"
   ]
  },
  {
   "cell_type": "code",
   "execution_count": null,
   "metadata": {},
   "outputs": [],
   "source": []
  }
 ],
 "metadata": {
  "kernelspec": {
   "display_name": "base",
   "language": "python",
   "name": "python3"
  },
  "language_info": {
   "codemirror_mode": {
    "name": "ipython",
    "version": 3
   },
   "file_extension": ".py",
   "mimetype": "text/x-python",
   "name": "python",
   "nbconvert_exporter": "python",
   "pygments_lexer": "ipython3",
   "version": "3.11.5"
  }
 },
 "nbformat": 4,
 "nbformat_minor": 2
}
